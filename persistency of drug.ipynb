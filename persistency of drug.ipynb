{
 "cells": [
  {
   "cell_type": "markdown",
   "id": "computational-stick",
   "metadata": {
    "id": "QhjriXiqanUU",
    "papermill": {
     "duration": 0.045021,
     "end_time": "2021-05-18T19:48:48.450232",
     "exception": false,
     "start_time": "2021-05-18T19:48:48.405211",
     "status": "completed"
    },
    "tags": []
   },
   "source": [
    "##Loading and reading of dataset"
   ]
  },
  {
   "cell_type": "code",
   "execution_count": 100,
   "id": "brief-tanzania",
   "metadata": {
    "execution": {
     "iopub.execute_input": "2021-05-18T19:48:48.549341Z",
     "iopub.status.busy": "2021-05-18T19:48:48.548687Z",
     "iopub.status.idle": "2021-05-18T19:48:48.552540Z",
     "shell.execute_reply": "2021-05-18T19:48:48.551877Z"
    },
    "id": "kwcLHvmHIlTO",
    "papermill": {
     "duration": 0.058559,
     "end_time": "2021-05-18T19:48:48.552726",
     "exception": false,
     "start_time": "2021-05-18T19:48:48.494167",
     "status": "completed"
    },
    "tags": []
   },
   "outputs": [],
   "source": [
    "import pandas as pd\n",
    "import numpy as np\n",
    "import io\n",
    "import matplotlib.pyplot as plt"
   ]
  },
  {
   "cell_type": "code",
   "execution_count": 101,
   "id": "demanding-frederick",
   "metadata": {
    "execution": {
     "iopub.execute_input": "2021-05-18T19:48:48.646607Z",
     "iopub.status.busy": "2021-05-18T19:48:48.645728Z",
     "iopub.status.idle": "2021-05-18T19:48:48.720022Z",
     "shell.execute_reply": "2021-05-18T19:48:48.720708Z"
    },
    "id": "YkYJ8-CGJC_C",
    "papermill": {
     "duration": 0.124798,
     "end_time": "2021-05-18T19:48:48.720919",
     "exception": false,
     "start_time": "2021-05-18T19:48:48.596121",
     "status": "completed"
    },
    "tags": []
   },
   "outputs": [],
   "source": [
    "df = pd.read_csv('/Users/aman22g/Downloads/Healthcare_dataset.csv')"
   ]
  },
  {
   "cell_type": "code",
   "execution_count": 102,
   "id": "curious-brunei",
   "metadata": {
    "execution": {
     "iopub.execute_input": "2021-05-18T19:48:48.831992Z",
     "iopub.status.busy": "2021-05-18T19:48:48.831209Z",
     "iopub.status.idle": "2021-05-18T19:48:48.860427Z",
     "shell.execute_reply": "2021-05-18T19:48:48.860954Z"
    },
    "id": "20BckxnvKlv-",
    "outputId": "33d18801-d08d-46d8-bbc5-ecf5983195d3",
    "papermill": {
     "duration": 0.094117,
     "end_time": "2021-05-18T19:48:48.861153",
     "exception": false,
     "start_time": "2021-05-18T19:48:48.767036",
     "status": "completed"
    },
    "tags": []
   },
   "outputs": [
    {
     "data": {
      "text/html": [
       "<div>\n",
       "<style scoped>\n",
       "    .dataframe tbody tr th:only-of-type {\n",
       "        vertical-align: middle;\n",
       "    }\n",
       "\n",
       "    .dataframe tbody tr th {\n",
       "        vertical-align: top;\n",
       "    }\n",
       "\n",
       "    .dataframe thead th {\n",
       "        text-align: right;\n",
       "    }\n",
       "</style>\n",
       "<table border=\"1\" class=\"dataframe\">\n",
       "  <thead>\n",
       "    <tr style=\"text-align: right;\">\n",
       "      <th></th>\n",
       "      <th>Ptid</th>\n",
       "      <th>Persistency_Flag</th>\n",
       "      <th>Gender</th>\n",
       "      <th>Race</th>\n",
       "      <th>Ethnicity</th>\n",
       "      <th>Region</th>\n",
       "      <th>Age_Bucket</th>\n",
       "      <th>Ntm_Speciality</th>\n",
       "      <th>Ntm_Specialist_Flag</th>\n",
       "      <th>Ntm_Speciality_Bucket</th>\n",
       "      <th>...</th>\n",
       "      <th>Risk_Family_History_Of_Osteoporosis</th>\n",
       "      <th>Risk_Low_Calcium_Intake</th>\n",
       "      <th>Risk_Vitamin_D_Insufficiency</th>\n",
       "      <th>Risk_Poor_Health_Frailty</th>\n",
       "      <th>Risk_Excessive_Thinness</th>\n",
       "      <th>Risk_Hysterectomy_Oophorectomy</th>\n",
       "      <th>Risk_Estrogen_Deficiency</th>\n",
       "      <th>Risk_Immobilization</th>\n",
       "      <th>Risk_Recurring_Falls</th>\n",
       "      <th>Count_Of_Risks</th>\n",
       "    </tr>\n",
       "  </thead>\n",
       "  <tbody>\n",
       "    <tr>\n",
       "      <th>0</th>\n",
       "      <td>P1</td>\n",
       "      <td>Persistent</td>\n",
       "      <td>Male</td>\n",
       "      <td>Caucasian</td>\n",
       "      <td>Not Hispanic</td>\n",
       "      <td>West</td>\n",
       "      <td>&gt;75</td>\n",
       "      <td>GENERAL PRACTITIONER</td>\n",
       "      <td>Others</td>\n",
       "      <td>OB/GYN/Others/PCP/Unknown</td>\n",
       "      <td>...</td>\n",
       "      <td>N</td>\n",
       "      <td>N</td>\n",
       "      <td>N</td>\n",
       "      <td>N</td>\n",
       "      <td>N</td>\n",
       "      <td>N</td>\n",
       "      <td>N</td>\n",
       "      <td>N</td>\n",
       "      <td>N</td>\n",
       "      <td>0</td>\n",
       "    </tr>\n",
       "    <tr>\n",
       "      <th>1</th>\n",
       "      <td>P2</td>\n",
       "      <td>Non-Persistent</td>\n",
       "      <td>Male</td>\n",
       "      <td>Asian</td>\n",
       "      <td>Not Hispanic</td>\n",
       "      <td>West</td>\n",
       "      <td>55-65</td>\n",
       "      <td>GENERAL PRACTITIONER</td>\n",
       "      <td>Others</td>\n",
       "      <td>OB/GYN/Others/PCP/Unknown</td>\n",
       "      <td>...</td>\n",
       "      <td>N</td>\n",
       "      <td>N</td>\n",
       "      <td>N</td>\n",
       "      <td>N</td>\n",
       "      <td>N</td>\n",
       "      <td>N</td>\n",
       "      <td>N</td>\n",
       "      <td>N</td>\n",
       "      <td>N</td>\n",
       "      <td>0</td>\n",
       "    </tr>\n",
       "    <tr>\n",
       "      <th>2</th>\n",
       "      <td>P3</td>\n",
       "      <td>Non-Persistent</td>\n",
       "      <td>Female</td>\n",
       "      <td>Other/Unknown</td>\n",
       "      <td>Hispanic</td>\n",
       "      <td>Midwest</td>\n",
       "      <td>65-75</td>\n",
       "      <td>GENERAL PRACTITIONER</td>\n",
       "      <td>Others</td>\n",
       "      <td>OB/GYN/Others/PCP/Unknown</td>\n",
       "      <td>...</td>\n",
       "      <td>N</td>\n",
       "      <td>Y</td>\n",
       "      <td>N</td>\n",
       "      <td>N</td>\n",
       "      <td>N</td>\n",
       "      <td>N</td>\n",
       "      <td>N</td>\n",
       "      <td>N</td>\n",
       "      <td>N</td>\n",
       "      <td>2</td>\n",
       "    </tr>\n",
       "    <tr>\n",
       "      <th>3</th>\n",
       "      <td>P4</td>\n",
       "      <td>Non-Persistent</td>\n",
       "      <td>Female</td>\n",
       "      <td>Caucasian</td>\n",
       "      <td>Not Hispanic</td>\n",
       "      <td>Midwest</td>\n",
       "      <td>&gt;75</td>\n",
       "      <td>GENERAL PRACTITIONER</td>\n",
       "      <td>Others</td>\n",
       "      <td>OB/GYN/Others/PCP/Unknown</td>\n",
       "      <td>...</td>\n",
       "      <td>N</td>\n",
       "      <td>N</td>\n",
       "      <td>N</td>\n",
       "      <td>N</td>\n",
       "      <td>N</td>\n",
       "      <td>N</td>\n",
       "      <td>N</td>\n",
       "      <td>N</td>\n",
       "      <td>N</td>\n",
       "      <td>1</td>\n",
       "    </tr>\n",
       "    <tr>\n",
       "      <th>4</th>\n",
       "      <td>P5</td>\n",
       "      <td>Non-Persistent</td>\n",
       "      <td>Female</td>\n",
       "      <td>Caucasian</td>\n",
       "      <td>Not Hispanic</td>\n",
       "      <td>Midwest</td>\n",
       "      <td>&gt;75</td>\n",
       "      <td>GENERAL PRACTITIONER</td>\n",
       "      <td>Others</td>\n",
       "      <td>OB/GYN/Others/PCP/Unknown</td>\n",
       "      <td>...</td>\n",
       "      <td>N</td>\n",
       "      <td>N</td>\n",
       "      <td>N</td>\n",
       "      <td>N</td>\n",
       "      <td>N</td>\n",
       "      <td>N</td>\n",
       "      <td>N</td>\n",
       "      <td>N</td>\n",
       "      <td>N</td>\n",
       "      <td>1</td>\n",
       "    </tr>\n",
       "  </tbody>\n",
       "</table>\n",
       "<p>5 rows × 69 columns</p>\n",
       "</div>"
      ],
      "text/plain": [
       "  Ptid Persistency_Flag  Gender           Race     Ethnicity   Region  \\\n",
       "0   P1       Persistent    Male      Caucasian  Not Hispanic     West   \n",
       "1   P2   Non-Persistent    Male          Asian  Not Hispanic     West   \n",
       "2   P3   Non-Persistent  Female  Other/Unknown      Hispanic  Midwest   \n",
       "3   P4   Non-Persistent  Female      Caucasian  Not Hispanic  Midwest   \n",
       "4   P5   Non-Persistent  Female      Caucasian  Not Hispanic  Midwest   \n",
       "\n",
       "  Age_Bucket        Ntm_Speciality Ntm_Specialist_Flag  \\\n",
       "0        >75  GENERAL PRACTITIONER              Others   \n",
       "1      55-65  GENERAL PRACTITIONER              Others   \n",
       "2      65-75  GENERAL PRACTITIONER              Others   \n",
       "3        >75  GENERAL PRACTITIONER              Others   \n",
       "4        >75  GENERAL PRACTITIONER              Others   \n",
       "\n",
       "       Ntm_Speciality_Bucket  ... Risk_Family_History_Of_Osteoporosis  \\\n",
       "0  OB/GYN/Others/PCP/Unknown  ...                                   N   \n",
       "1  OB/GYN/Others/PCP/Unknown  ...                                   N   \n",
       "2  OB/GYN/Others/PCP/Unknown  ...                                   N   \n",
       "3  OB/GYN/Others/PCP/Unknown  ...                                   N   \n",
       "4  OB/GYN/Others/PCP/Unknown  ...                                   N   \n",
       "\n",
       "  Risk_Low_Calcium_Intake  Risk_Vitamin_D_Insufficiency  \\\n",
       "0                       N                             N   \n",
       "1                       N                             N   \n",
       "2                       Y                             N   \n",
       "3                       N                             N   \n",
       "4                       N                             N   \n",
       "\n",
       "  Risk_Poor_Health_Frailty Risk_Excessive_Thinness  \\\n",
       "0                        N                       N   \n",
       "1                        N                       N   \n",
       "2                        N                       N   \n",
       "3                        N                       N   \n",
       "4                        N                       N   \n",
       "\n",
       "  Risk_Hysterectomy_Oophorectomy Risk_Estrogen_Deficiency Risk_Immobilization  \\\n",
       "0                              N                        N                   N   \n",
       "1                              N                        N                   N   \n",
       "2                              N                        N                   N   \n",
       "3                              N                        N                   N   \n",
       "4                              N                        N                   N   \n",
       "\n",
       "  Risk_Recurring_Falls Count_Of_Risks  \n",
       "0                    N              0  \n",
       "1                    N              0  \n",
       "2                    N              2  \n",
       "3                    N              1  \n",
       "4                    N              1  \n",
       "\n",
       "[5 rows x 69 columns]"
      ]
     },
     "execution_count": 102,
     "metadata": {},
     "output_type": "execute_result"
    }
   ],
   "source": [
    "df.head()"
   ]
  },
  {
   "cell_type": "markdown",
   "id": "short-rachel",
   "metadata": {
    "id": "C38c4ulyabDM",
    "papermill": {
     "duration": 0.045201,
     "end_time": "2021-05-18T19:48:49.077419",
     "exception": false,
     "start_time": "2021-05-18T19:48:49.032218",
     "status": "completed"
    },
    "tags": []
   },
   "source": [
    "##Descriptive Analysis of dataset"
   ]
  },
  {
   "cell_type": "code",
   "execution_count": 103,
   "id": "ceramic-assurance",
   "metadata": {
    "execution": {
     "iopub.execute_input": "2021-05-18T19:48:49.178659Z",
     "iopub.status.busy": "2021-05-18T19:48:49.176553Z",
     "iopub.status.idle": "2021-05-18T19:48:49.198645Z",
     "shell.execute_reply": "2021-05-18T19:48:49.197936Z"
    },
    "id": "0JD4FmM5J24G",
    "outputId": "265bf251-a467-4b46-c484-86f8ce3c7ae9",
    "papermill": {
     "duration": 0.074818,
     "end_time": "2021-05-18T19:48:49.198808",
     "exception": false,
     "start_time": "2021-05-18T19:48:49.123990",
     "status": "completed"
    },
    "tags": []
   },
   "outputs": [
    {
     "data": {
      "text/plain": [
       "<bound method NDFrame.describe of        Ptid Persistency_Flag  Gender           Race     Ethnicity   Region  \\\n",
       "0        P1       Persistent    Male      Caucasian  Not Hispanic     West   \n",
       "1        P2   Non-Persistent    Male          Asian  Not Hispanic     West   \n",
       "2        P3   Non-Persistent  Female  Other/Unknown      Hispanic  Midwest   \n",
       "3        P4   Non-Persistent  Female      Caucasian  Not Hispanic  Midwest   \n",
       "4        P5   Non-Persistent  Female      Caucasian  Not Hispanic  Midwest   \n",
       "...     ...              ...     ...            ...           ...      ...   \n",
       "3419  P3420       Persistent  Female      Caucasian  Not Hispanic    South   \n",
       "3420  P3421       Persistent  Female      Caucasian  Not Hispanic    South   \n",
       "3421  P3422       Persistent  Female      Caucasian  Not Hispanic    South   \n",
       "3422  P3423   Non-Persistent  Female      Caucasian  Not Hispanic    South   \n",
       "3423  P3424   Non-Persistent  Female      Caucasian  Not Hispanic    South   \n",
       "\n",
       "     Age_Bucket        Ntm_Speciality Ntm_Specialist_Flag  \\\n",
       "0           >75  GENERAL PRACTITIONER              Others   \n",
       "1         55-65  GENERAL PRACTITIONER              Others   \n",
       "2         65-75  GENERAL PRACTITIONER              Others   \n",
       "3           >75  GENERAL PRACTITIONER              Others   \n",
       "4           >75  GENERAL PRACTITIONER              Others   \n",
       "...         ...                   ...                 ...   \n",
       "3419        >75  GENERAL PRACTITIONER              Others   \n",
       "3420        >75               Unknown              Others   \n",
       "3421        >75         ENDOCRINOLOGY          Specialist   \n",
       "3422      55-65               Unknown              Others   \n",
       "3423      65-75               Unknown              Others   \n",
       "\n",
       "          Ntm_Speciality_Bucket  ... Risk_Family_History_Of_Osteoporosis  \\\n",
       "0     OB/GYN/Others/PCP/Unknown  ...                                   N   \n",
       "1     OB/GYN/Others/PCP/Unknown  ...                                   N   \n",
       "2     OB/GYN/Others/PCP/Unknown  ...                                   N   \n",
       "3     OB/GYN/Others/PCP/Unknown  ...                                   N   \n",
       "4     OB/GYN/Others/PCP/Unknown  ...                                   N   \n",
       "...                         ...  ...                                 ...   \n",
       "3419  OB/GYN/Others/PCP/Unknown  ...                                   N   \n",
       "3420  OB/GYN/Others/PCP/Unknown  ...                                   N   \n",
       "3421               Endo/Onc/Uro  ...                                   N   \n",
       "3422  OB/GYN/Others/PCP/Unknown  ...                                   N   \n",
       "3423  OB/GYN/Others/PCP/Unknown  ...                                   N   \n",
       "\n",
       "     Risk_Low_Calcium_Intake  Risk_Vitamin_D_Insufficiency  \\\n",
       "0                          N                             N   \n",
       "1                          N                             N   \n",
       "2                          Y                             N   \n",
       "3                          N                             N   \n",
       "4                          N                             N   \n",
       "...                      ...                           ...   \n",
       "3419                       N                             Y   \n",
       "3420                       N                             N   \n",
       "3421                       N                             Y   \n",
       "3422                       N                             N   \n",
       "3423                       N                             Y   \n",
       "\n",
       "     Risk_Poor_Health_Frailty Risk_Excessive_Thinness  \\\n",
       "0                           N                       N   \n",
       "1                           N                       N   \n",
       "2                           N                       N   \n",
       "3                           N                       N   \n",
       "4                           N                       N   \n",
       "...                       ...                     ...   \n",
       "3419                        N                       N   \n",
       "3420                        N                       N   \n",
       "3421                        N                       N   \n",
       "3422                        N                       N   \n",
       "3423                        N                       N   \n",
       "\n",
       "     Risk_Hysterectomy_Oophorectomy Risk_Estrogen_Deficiency  \\\n",
       "0                                 N                        N   \n",
       "1                                 N                        N   \n",
       "2                                 N                        N   \n",
       "3                                 N                        N   \n",
       "4                                 N                        N   \n",
       "...                             ...                      ...   \n",
       "3419                              N                        N   \n",
       "3420                              N                        N   \n",
       "3421                              N                        N   \n",
       "3422                              N                        N   \n",
       "3423                              N                        N   \n",
       "\n",
       "     Risk_Immobilization Risk_Recurring_Falls Count_Of_Risks  \n",
       "0                      N                    N              0  \n",
       "1                      N                    N              0  \n",
       "2                      N                    N              2  \n",
       "3                      N                    N              1  \n",
       "4                      N                    N              1  \n",
       "...                  ...                  ...            ...  \n",
       "3419                   N                    N              1  \n",
       "3420                   N                    N              0  \n",
       "3421                   N                    N              1  \n",
       "3422                   N                    N              0  \n",
       "3423                   N                    N              1  \n",
       "\n",
       "[3424 rows x 69 columns]>"
      ]
     },
     "execution_count": 103,
     "metadata": {},
     "output_type": "execute_result"
    }
   ],
   "source": [
    "df.describe"
   ]
  },
  {
   "cell_type": "code",
   "execution_count": 104,
   "id": "dutch-doctor",
   "metadata": {
    "execution": {
     "iopub.execute_input": "2021-05-18T19:48:49.317954Z",
     "iopub.status.busy": "2021-05-18T19:48:49.316773Z",
     "iopub.status.idle": "2021-05-18T19:48:49.343204Z",
     "shell.execute_reply": "2021-05-18T19:48:49.343692Z"
    },
    "id": "mDUXH89MKx2X",
    "outputId": "fa4b5bc1-0db9-4939-9d11-29a997f5963f",
    "papermill": {
     "duration": 0.099091,
     "end_time": "2021-05-18T19:48:49.343934",
     "exception": false,
     "start_time": "2021-05-18T19:48:49.244843",
     "status": "completed"
    },
    "tags": []
   },
   "outputs": [
    {
     "name": "stdout",
     "output_type": "stream",
     "text": [
      "<class 'pandas.core.frame.DataFrame'>\n",
      "RangeIndex: 3424 entries, 0 to 3423\n",
      "Data columns (total 69 columns):\n",
      " #   Column                                                              Non-Null Count  Dtype \n",
      "---  ------                                                              --------------  ----- \n",
      " 0   Ptid                                                                3424 non-null   object\n",
      " 1   Persistency_Flag                                                    3424 non-null   object\n",
      " 2   Gender                                                              3424 non-null   object\n",
      " 3   Race                                                                3424 non-null   object\n",
      " 4   Ethnicity                                                           3424 non-null   object\n",
      " 5   Region                                                              3424 non-null   object\n",
      " 6   Age_Bucket                                                          3424 non-null   object\n",
      " 7   Ntm_Speciality                                                      3424 non-null   object\n",
      " 8   Ntm_Specialist_Flag                                                 3424 non-null   object\n",
      " 9   Ntm_Speciality_Bucket                                               3424 non-null   object\n",
      " 10  Gluco_Record_Prior_Ntm                                              3424 non-null   object\n",
      " 11  Gluco_Record_During_Rx                                              3424 non-null   object\n",
      " 12  Dexa_Freq_During_Rx                                                 3424 non-null   int64 \n",
      " 13  Dexa_During_Rx                                                      3424 non-null   object\n",
      " 14  Frag_Frac_Prior_Ntm                                                 3424 non-null   object\n",
      " 15  Frag_Frac_During_Rx                                                 3424 non-null   object\n",
      " 16  Risk_Segment_Prior_Ntm                                              3424 non-null   object\n",
      " 17  Tscore_Bucket_Prior_Ntm                                             3424 non-null   object\n",
      " 18  Risk_Segment_During_Rx                                              3424 non-null   object\n",
      " 19  Tscore_Bucket_During_Rx                                             3424 non-null   object\n",
      " 20  Change_T_Score                                                      3424 non-null   object\n",
      " 21  Change_Risk_Segment                                                 3424 non-null   object\n",
      " 22  Adherent_Flag                                                       3424 non-null   object\n",
      " 23  Idn_Indicator                                                       3424 non-null   object\n",
      " 24  Injectable_Experience_During_Rx                                     3424 non-null   object\n",
      " 25  Comorb_Encounter_For_Screening_For_Malignant_Neoplasms              3424 non-null   object\n",
      " 26  Comorb_Encounter_For_Immunization                                   3424 non-null   object\n",
      " 27  Comorb_Encntr_For_General_Exam_W_O_Complaint,_Susp_Or_Reprtd_Dx     3424 non-null   object\n",
      " 28  Comorb_Vitamin_D_Deficiency                                         3424 non-null   object\n",
      " 29  Comorb_Other_Joint_Disorder_Not_Elsewhere_Classified                3424 non-null   object\n",
      " 30  Comorb_Encntr_For_Oth_Sp_Exam_W_O_Complaint_Suspected_Or_Reprtd_Dx  3424 non-null   object\n",
      " 31  Comorb_Long_Term_Current_Drug_Therapy                               3424 non-null   object\n",
      " 32  Comorb_Dorsalgia                                                    3424 non-null   object\n",
      " 33  Comorb_Personal_History_Of_Other_Diseases_And_Conditions            3424 non-null   object\n",
      " 34  Comorb_Other_Disorders_Of_Bone_Density_And_Structure                3424 non-null   object\n",
      " 35  Comorb_Disorders_of_lipoprotein_metabolism_and_other_lipidemias     3424 non-null   object\n",
      " 36  Comorb_Osteoporosis_without_current_pathological_fracture           3424 non-null   object\n",
      " 37  Comorb_Personal_history_of_malignant_neoplasm                       3424 non-null   object\n",
      " 38  Comorb_Gastro_esophageal_reflux_disease                             3424 non-null   object\n",
      " 39  Concom_Cholesterol_And_Triglyceride_Regulating_Preparations         3424 non-null   object\n",
      " 40  Concom_Narcotics                                                    3424 non-null   object\n",
      " 41  Concom_Systemic_Corticosteroids_Plain                               3424 non-null   object\n",
      " 42  Concom_Anti_Depressants_And_Mood_Stabilisers                        3424 non-null   object\n",
      " 43  Concom_Fluoroquinolones                                             3424 non-null   object\n",
      " 44  Concom_Cephalosporins                                               3424 non-null   object\n",
      " 45  Concom_Macrolides_And_Similar_Types                                 3424 non-null   object\n",
      " 46  Concom_Broad_Spectrum_Penicillins                                   3424 non-null   object\n",
      " 47  Concom_Anaesthetics_General                                         3424 non-null   object\n",
      " 48  Concom_Viral_Vaccines                                               3424 non-null   object\n",
      " 49  Risk_Type_1_Insulin_Dependent_Diabetes                              3424 non-null   object\n",
      " 50  Risk_Osteogenesis_Imperfecta                                        3424 non-null   object\n",
      " 51  Risk_Rheumatoid_Arthritis                                           3424 non-null   object\n",
      " 52  Risk_Untreated_Chronic_Hyperthyroidism                              3424 non-null   object\n",
      " 53  Risk_Untreated_Chronic_Hypogonadism                                 3424 non-null   object\n",
      " 54  Risk_Untreated_Early_Menopause                                      3424 non-null   object\n",
      " 55  Risk_Patient_Parent_Fractured_Their_Hip                             3424 non-null   object\n",
      " 56  Risk_Smoking_Tobacco                                                3424 non-null   object\n",
      " 57  Risk_Chronic_Malnutrition_Or_Malabsorption                          3424 non-null   object\n",
      " 58  Risk_Chronic_Liver_Disease                                          3424 non-null   object\n",
      " 59  Risk_Family_History_Of_Osteoporosis                                 3424 non-null   object\n",
      " 60  Risk_Low_Calcium_Intake                                             3424 non-null   object\n",
      " 61  Risk_Vitamin_D_Insufficiency                                        3424 non-null   object\n",
      " 62  Risk_Poor_Health_Frailty                                            3424 non-null   object\n",
      " 63  Risk_Excessive_Thinness                                             3424 non-null   object\n",
      " 64  Risk_Hysterectomy_Oophorectomy                                      3424 non-null   object\n",
      " 65  Risk_Estrogen_Deficiency                                            3424 non-null   object\n",
      " 66  Risk_Immobilization                                                 3424 non-null   object\n",
      " 67  Risk_Recurring_Falls                                                3424 non-null   object\n",
      " 68  Count_Of_Risks                                                      3424 non-null   int64 \n",
      "dtypes: int64(2), object(67)\n",
      "memory usage: 1.8+ MB\n"
     ]
    }
   ],
   "source": [
    "df.info()"
   ]
  },
  {
   "cell_type": "code",
   "execution_count": 105,
   "id": "controlled-designation",
   "metadata": {
    "execution": {
     "iopub.execute_input": "2021-05-18T19:48:49.873637Z",
     "iopub.status.busy": "2021-05-18T19:48:49.872549Z",
     "iopub.status.idle": "2021-05-18T19:48:49.881026Z",
     "shell.execute_reply": "2021-05-18T19:48:49.881527Z"
    },
    "id": "DQhAuB3COa5t",
    "outputId": "574c28f1-26dd-4060-9996-c1485d900439",
    "papermill": {
     "duration": 0.081873,
     "end_time": "2021-05-18T19:48:49.881723",
     "exception": false,
     "start_time": "2021-05-18T19:48:49.799850",
     "status": "completed"
    },
    "tags": []
   },
   "outputs": [
    {
     "data": {
      "text/plain": [
       "Ptid                              0\n",
       "Persistency_Flag                  0\n",
       "Gender                            0\n",
       "Race                              0\n",
       "Ethnicity                         0\n",
       "                                 ..\n",
       "Risk_Hysterectomy_Oophorectomy    0\n",
       "Risk_Estrogen_Deficiency          0\n",
       "Risk_Immobilization               0\n",
       "Risk_Recurring_Falls              0\n",
       "Count_Of_Risks                    0\n",
       "Length: 69, dtype: int64"
      ]
     },
     "execution_count": 105,
     "metadata": {},
     "output_type": "execute_result"
    }
   ],
   "source": [
    "df.isnull().sum()"
   ]
  },
  {
   "cell_type": "code",
   "execution_count": 106,
   "id": "surprised-chase",
   "metadata": {
    "execution": {
     "iopub.execute_input": "2021-05-18T19:48:49.981195Z",
     "iopub.status.busy": "2021-05-18T19:48:49.980488Z",
     "iopub.status.idle": "2021-05-18T19:48:49.987965Z",
     "shell.execute_reply": "2021-05-18T19:48:49.988566Z"
    },
    "id": "VsAVusJEoA5h",
    "outputId": "ea67c59c-788b-430c-d870-3ca022e1b279",
    "papermill": {
     "duration": 0.059348,
     "end_time": "2021-05-18T19:48:49.988768",
     "exception": false,
     "start_time": "2021-05-18T19:48:49.929420",
     "status": "completed"
    },
    "tags": []
   },
   "outputs": [
    {
     "data": {
      "text/plain": [
       "Persistency_Flag\n",
       "Non-Persistent    2135\n",
       "Persistent        1289\n",
       "dtype: int64"
      ]
     },
     "execution_count": 106,
     "metadata": {},
     "output_type": "execute_result"
    }
   ],
   "source": [
    "df.value_counts('Persistency_Flag')"
   ]
  },
  {
   "cell_type": "markdown",
   "id": "anticipated-swedish",
   "metadata": {
    "id": "CN7LLC3LaTTU",
    "papermill": {
     "duration": 0.048206,
     "end_time": "2021-05-18T19:48:50.085823",
     "exception": false,
     "start_time": "2021-05-18T19:48:50.037617",
     "status": "completed"
    },
    "tags": []
   },
   "source": [
    "##Exploratory Data Analysis"
   ]
  },
  {
   "cell_type": "code",
   "execution_count": 107,
   "id": "fifteen-error",
   "metadata": {
    "execution": {
     "iopub.execute_input": "2021-05-18T19:48:50.187273Z",
     "iopub.status.busy": "2021-05-18T19:48:50.186612Z",
     "iopub.status.idle": "2021-05-18T19:48:51.117093Z",
     "shell.execute_reply": "2021-05-18T19:48:51.116264Z"
    },
    "id": "_0jJJDz1enzO",
    "papermill": {
     "duration": 0.982056,
     "end_time": "2021-05-18T19:48:51.117261",
     "exception": false,
     "start_time": "2021-05-18T19:48:50.135205",
     "status": "completed"
    },
    "tags": []
   },
   "outputs": [],
   "source": [
    "import seaborn as sns"
   ]
  },
  {
   "cell_type": "code",
   "execution_count": 108,
   "id": "recorded-killer",
   "metadata": {
    "execution": {
     "iopub.execute_input": "2021-05-18T19:48:51.228305Z",
     "iopub.status.busy": "2021-05-18T19:48:51.225966Z",
     "iopub.status.idle": "2021-05-18T19:48:51.397327Z",
     "shell.execute_reply": "2021-05-18T19:48:51.396644Z"
    },
    "id": "hAaKe-cv9aMJ",
    "outputId": "c3898a11-7724-4bea-a316-1fd62a4b8d4d",
    "papermill": {
     "duration": 0.230161,
     "end_time": "2021-05-18T19:48:51.397512",
     "exception": false,
     "start_time": "2021-05-18T19:48:51.167351",
     "status": "completed"
    },
    "tags": []
   },
   "outputs": [
    {
     "data": {
      "text/plain": [
       "<AxesSubplot:xlabel='Persistency_Flag', ylabel='count'>"
      ]
     },
     "execution_count": 108,
     "metadata": {},
     "output_type": "execute_result"
    },
    {
     "data": {
      "image/png": "[encoded data removed]",
      "text/plain": [
       "<Figure size 432x288 with 1 Axes>"
      ]
     },
     "metadata": {
      "needs_background": "light"
     },
     "output_type": "display_data"
    }
   ],
   "source": [
    "sns.countplot(x=\"Persistency_Flag\",data=df, dodge=True)"
   ]
  },
  {
   "cell_type": "code",
   "execution_count": 109,
   "id": "cheap-divorce",
   "metadata": {
    "execution": {
     "iopub.execute_input": "2021-05-18T19:48:52.366573Z",
     "iopub.status.busy": "2021-05-18T19:48:52.363225Z",
     "iopub.status.idle": "2021-05-18T19:48:52.536601Z",
     "shell.execute_reply": "2021-05-18T19:48:52.535965Z"
    },
    "id": "iEq8xllT9i_1",
    "outputId": "19c88ae7-abb9-446c-ef92-35626b222c5c",
    "papermill": {
     "duration": 0.238535,
     "end_time": "2021-05-18T19:48:52.536788",
     "exception": false,
     "start_time": "2021-05-18T19:48:52.298253",
     "status": "completed"
    },
    "tags": []
   },
   "outputs": [
    {
     "data": {
      "text/plain": [
       "<AxesSubplot:xlabel='Persistency_Flag', ylabel='count'>"
      ]
     },
     "execution_count": 109,
     "metadata": {},
     "output_type": "execute_result"
    },
    {
     "data": {
      "image/png": "[encoded data removed]",
      "text/plain": [
       "<Figure size 432x288 with 1 Axes>"
      ]
     },
     "metadata": {
      "needs_background": "light"
     },
     "output_type": "display_data"
    }
   ],
   "source": [
    "sns.countplot(x=\"Persistency_Flag\", hue='Age_Bucket', data=df)"
   ]
  },
  {
   "cell_type": "code",
   "execution_count": 110,
   "id": "increasing-diary",
   "metadata": {
    "execution": {
     "iopub.execute_input": "2021-05-18T19:48:52.659429Z",
     "iopub.status.busy": "2021-05-18T19:48:52.658732Z",
     "iopub.status.idle": "2021-05-18T19:48:52.824843Z",
     "shell.execute_reply": "2021-05-18T19:48:52.824084Z"
    },
    "id": "c8_Chlzo-bAd",
    "outputId": "920debd2-b0ad-4303-cc9e-8ce3aa4265a2",
    "papermill": {
     "duration": 0.230626,
     "end_time": "2021-05-18T19:48:52.825011",
     "exception": false,
     "start_time": "2021-05-18T19:48:52.594385",
     "status": "completed"
    },
    "tags": []
   },
   "outputs": [
    {
     "data": {
      "text/plain": [
       "<AxesSubplot:xlabel='Persistency_Flag', ylabel='count'>"
      ]
     },
     "execution_count": 110,
     "metadata": {},
     "output_type": "execute_result"
    },
    {
     "data": {
      "image/png": "[encoded data removed]",
      "text/plain": [
       "<Figure size 432x288 with 1 Axes>"
      ]
     },
     "metadata": {
      "needs_background": "light"
     },
     "output_type": "display_data"
    }
   ],
   "source": [
    "sns.countplot(x=\"Persistency_Flag\", hue='Gender', data=df)"
   ]
  },
  {
   "cell_type": "code",
   "execution_count": 111,
   "id": "color-monaco",
   "metadata": {
    "execution": {
     "iopub.execute_input": "2021-05-18T19:48:53.450713Z",
     "iopub.status.busy": "2021-05-18T19:48:53.450013Z",
     "iopub.status.idle": "2021-05-18T19:48:53.456840Z",
     "shell.execute_reply": "2021-05-18T19:48:53.456292Z"
    },
    "id": "kQnvxMheLnnN",
    "papermill": {
     "duration": 0.0712,
     "end_time": "2021-05-18T19:48:53.456992",
     "exception": false,
     "start_time": "2021-05-18T19:48:53.385792",
     "status": "completed"
    },
    "tags": []
   },
   "outputs": [],
   "source": [
    "X = df.drop(columns='Persistency_Flag')\n",
    "y = df['Persistency_Flag']"
   ]
  },
  {
   "cell_type": "code",
   "execution_count": 112,
   "id": "improved-surge",
   "metadata": {
    "execution": {
     "iopub.execute_input": "2021-05-18T19:48:53.613921Z",
     "iopub.status.busy": "2021-05-18T19:48:53.613107Z",
     "iopub.status.idle": "2021-05-18T19:48:53.618354Z",
     "shell.execute_reply": "2021-05-18T19:48:53.617687Z"
    },
    "id": "MQ4sp7ZIc3FJ",
    "outputId": "e5ae8386-ba3a-4ef7-d0c7-65e41175b4d3",
    "papermill": {
     "duration": 0.097209,
     "end_time": "2021-05-18T19:48:53.618509",
     "exception": false,
     "start_time": "2021-05-18T19:48:53.521300",
     "status": "completed"
    },
    "tags": []
   },
   "outputs": [
    {
     "data": {
      "text/html": [
       "<div>\n",
       "<style scoped>\n",
       "    .dataframe tbody tr th:only-of-type {\n",
       "        vertical-align: middle;\n",
       "    }\n",
       "\n",
       "    .dataframe tbody tr th {\n",
       "        vertical-align: top;\n",
       "    }\n",
       "\n",
       "    .dataframe thead th {\n",
       "        text-align: right;\n",
       "    }\n",
       "</style>\n",
       "<table border=\"1\" class=\"dataframe\">\n",
       "  <thead>\n",
       "    <tr style=\"text-align: right;\">\n",
       "      <th></th>\n",
       "      <th>Ptid</th>\n",
       "      <th>Gender</th>\n",
       "      <th>Race</th>\n",
       "      <th>Ethnicity</th>\n",
       "      <th>Region</th>\n",
       "      <th>Age_Bucket</th>\n",
       "      <th>Ntm_Speciality</th>\n",
       "      <th>Ntm_Specialist_Flag</th>\n",
       "      <th>Ntm_Speciality_Bucket</th>\n",
       "      <th>Gluco_Record_Prior_Ntm</th>\n",
       "      <th>...</th>\n",
       "      <th>Risk_Family_History_Of_Osteoporosis</th>\n",
       "      <th>Risk_Low_Calcium_Intake</th>\n",
       "      <th>Risk_Vitamin_D_Insufficiency</th>\n",
       "      <th>Risk_Poor_Health_Frailty</th>\n",
       "      <th>Risk_Excessive_Thinness</th>\n",
       "      <th>Risk_Hysterectomy_Oophorectomy</th>\n",
       "      <th>Risk_Estrogen_Deficiency</th>\n",
       "      <th>Risk_Immobilization</th>\n",
       "      <th>Risk_Recurring_Falls</th>\n",
       "      <th>Count_Of_Risks</th>\n",
       "    </tr>\n",
       "  </thead>\n",
       "  <tbody>\n",
       "    <tr>\n",
       "      <th>0</th>\n",
       "      <td>P1</td>\n",
       "      <td>Male</td>\n",
       "      <td>Caucasian</td>\n",
       "      <td>Not Hispanic</td>\n",
       "      <td>West</td>\n",
       "      <td>&gt;75</td>\n",
       "      <td>GENERAL PRACTITIONER</td>\n",
       "      <td>Others</td>\n",
       "      <td>OB/GYN/Others/PCP/Unknown</td>\n",
       "      <td>N</td>\n",
       "      <td>...</td>\n",
       "      <td>N</td>\n",
       "      <td>N</td>\n",
       "      <td>N</td>\n",
       "      <td>N</td>\n",
       "      <td>N</td>\n",
       "      <td>N</td>\n",
       "      <td>N</td>\n",
       "      <td>N</td>\n",
       "      <td>N</td>\n",
       "      <td>0</td>\n",
       "    </tr>\n",
       "    <tr>\n",
       "      <th>1</th>\n",
       "      <td>P2</td>\n",
       "      <td>Male</td>\n",
       "      <td>Asian</td>\n",
       "      <td>Not Hispanic</td>\n",
       "      <td>West</td>\n",
       "      <td>55-65</td>\n",
       "      <td>GENERAL PRACTITIONER</td>\n",
       "      <td>Others</td>\n",
       "      <td>OB/GYN/Others/PCP/Unknown</td>\n",
       "      <td>N</td>\n",
       "      <td>...</td>\n",
       "      <td>N</td>\n",
       "      <td>N</td>\n",
       "      <td>N</td>\n",
       "      <td>N</td>\n",
       "      <td>N</td>\n",
       "      <td>N</td>\n",
       "      <td>N</td>\n",
       "      <td>N</td>\n",
       "      <td>N</td>\n",
       "      <td>0</td>\n",
       "    </tr>\n",
       "    <tr>\n",
       "      <th>2</th>\n",
       "      <td>P3</td>\n",
       "      <td>Female</td>\n",
       "      <td>Other/Unknown</td>\n",
       "      <td>Hispanic</td>\n",
       "      <td>Midwest</td>\n",
       "      <td>65-75</td>\n",
       "      <td>GENERAL PRACTITIONER</td>\n",
       "      <td>Others</td>\n",
       "      <td>OB/GYN/Others/PCP/Unknown</td>\n",
       "      <td>N</td>\n",
       "      <td>...</td>\n",
       "      <td>N</td>\n",
       "      <td>Y</td>\n",
       "      <td>N</td>\n",
       "      <td>N</td>\n",
       "      <td>N</td>\n",
       "      <td>N</td>\n",
       "      <td>N</td>\n",
       "      <td>N</td>\n",
       "      <td>N</td>\n",
       "      <td>2</td>\n",
       "    </tr>\n",
       "    <tr>\n",
       "      <th>3</th>\n",
       "      <td>P4</td>\n",
       "      <td>Female</td>\n",
       "      <td>Caucasian</td>\n",
       "      <td>Not Hispanic</td>\n",
       "      <td>Midwest</td>\n",
       "      <td>&gt;75</td>\n",
       "      <td>GENERAL PRACTITIONER</td>\n",
       "      <td>Others</td>\n",
       "      <td>OB/GYN/Others/PCP/Unknown</td>\n",
       "      <td>N</td>\n",
       "      <td>...</td>\n",
       "      <td>N</td>\n",
       "      <td>N</td>\n",
       "      <td>N</td>\n",
       "      <td>N</td>\n",
       "      <td>N</td>\n",
       "      <td>N</td>\n",
       "      <td>N</td>\n",
       "      <td>N</td>\n",
       "      <td>N</td>\n",
       "      <td>1</td>\n",
       "    </tr>\n",
       "    <tr>\n",
       "      <th>4</th>\n",
       "      <td>P5</td>\n",
       "      <td>Female</td>\n",
       "      <td>Caucasian</td>\n",
       "      <td>Not Hispanic</td>\n",
       "      <td>Midwest</td>\n",
       "      <td>&gt;75</td>\n",
       "      <td>GENERAL PRACTITIONER</td>\n",
       "      <td>Others</td>\n",
       "      <td>OB/GYN/Others/PCP/Unknown</td>\n",
       "      <td>Y</td>\n",
       "      <td>...</td>\n",
       "      <td>N</td>\n",
       "      <td>N</td>\n",
       "      <td>N</td>\n",
       "      <td>N</td>\n",
       "      <td>N</td>\n",
       "      <td>N</td>\n",
       "      <td>N</td>\n",
       "      <td>N</td>\n",
       "      <td>N</td>\n",
       "      <td>1</td>\n",
       "    </tr>\n",
       "  </tbody>\n",
       "</table>\n",
       "<p>5 rows × 68 columns</p>\n",
       "</div>"
      ],
      "text/plain": [
       "  Ptid  Gender           Race     Ethnicity   Region Age_Bucket  \\\n",
       "0   P1    Male      Caucasian  Not Hispanic     West        >75   \n",
       "1   P2    Male          Asian  Not Hispanic     West      55-65   \n",
       "2   P3  Female  Other/Unknown      Hispanic  Midwest      65-75   \n",
       "3   P4  Female      Caucasian  Not Hispanic  Midwest        >75   \n",
       "4   P5  Female      Caucasian  Not Hispanic  Midwest        >75   \n",
       "\n",
       "         Ntm_Speciality Ntm_Specialist_Flag      Ntm_Speciality_Bucket  \\\n",
       "0  GENERAL PRACTITIONER              Others  OB/GYN/Others/PCP/Unknown   \n",
       "1  GENERAL PRACTITIONER              Others  OB/GYN/Others/PCP/Unknown   \n",
       "2  GENERAL PRACTITIONER              Others  OB/GYN/Others/PCP/Unknown   \n",
       "3  GENERAL PRACTITIONER              Others  OB/GYN/Others/PCP/Unknown   \n",
       "4  GENERAL PRACTITIONER              Others  OB/GYN/Others/PCP/Unknown   \n",
       "\n",
       "  Gluco_Record_Prior_Ntm  ... Risk_Family_History_Of_Osteoporosis  \\\n",
       "0                      N  ...                                   N   \n",
       "1                      N  ...                                   N   \n",
       "2                      N  ...                                   N   \n",
       "3                      N  ...                                   N   \n",
       "4                      Y  ...                                   N   \n",
       "\n",
       "   Risk_Low_Calcium_Intake Risk_Vitamin_D_Insufficiency  \\\n",
       "0                        N                            N   \n",
       "1                        N                            N   \n",
       "2                        Y                            N   \n",
       "3                        N                            N   \n",
       "4                        N                            N   \n",
       "\n",
       "  Risk_Poor_Health_Frailty Risk_Excessive_Thinness  \\\n",
       "0                        N                       N   \n",
       "1                        N                       N   \n",
       "2                        N                       N   \n",
       "3                        N                       N   \n",
       "4                        N                       N   \n",
       "\n",
       "  Risk_Hysterectomy_Oophorectomy Risk_Estrogen_Deficiency Risk_Immobilization  \\\n",
       "0                              N                        N                   N   \n",
       "1                              N                        N                   N   \n",
       "2                              N                        N                   N   \n",
       "3                              N                        N                   N   \n",
       "4                              N                        N                   N   \n",
       "\n",
       "  Risk_Recurring_Falls Count_Of_Risks  \n",
       "0                    N              0  \n",
       "1                    N              0  \n",
       "2                    N              2  \n",
       "3                    N              1  \n",
       "4                    N              1  \n",
       "\n",
       "[5 rows x 68 columns]"
      ]
     },
     "execution_count": 112,
     "metadata": {},
     "output_type": "execute_result"
    }
   ],
   "source": [
    "X.head()"
   ]
  },
  {
   "cell_type": "code",
   "execution_count": 113,
   "id": "indie-frank",
   "metadata": {
    "execution": {
     "iopub.execute_input": "2021-05-18T19:48:53.746190Z",
     "iopub.status.busy": "2021-05-18T19:48:53.745291Z",
     "iopub.status.idle": "2021-05-18T19:48:53.749644Z",
     "shell.execute_reply": "2021-05-18T19:48:53.748988Z"
    },
    "id": "U98XF6updLus",
    "outputId": "d43c3c74-ac7c-40e1-91c8-3be6846d8954",
    "papermill": {
     "duration": 0.070629,
     "end_time": "2021-05-18T19:48:53.749783",
     "exception": false,
     "start_time": "2021-05-18T19:48:53.679154",
     "status": "completed"
    },
    "tags": []
   },
   "outputs": [
    {
     "data": {
      "text/plain": [
       "0        Persistent\n",
       "1    Non-Persistent\n",
       "2    Non-Persistent\n",
       "3    Non-Persistent\n",
       "4    Non-Persistent\n",
       "Name: Persistency_Flag, dtype: object"
      ]
     },
     "execution_count": 113,
     "metadata": {},
     "output_type": "execute_result"
    }
   ],
   "source": [
    "y.head()"
   ]
  },
  {
   "cell_type": "code",
   "execution_count": 114,
   "id": "velvet-instrumentation",
   "metadata": {
    "execution": {
     "iopub.execute_input": "2021-05-18T19:48:53.870612Z",
     "iopub.status.busy": "2021-05-18T19:48:53.869864Z",
     "iopub.status.idle": "2021-05-18T19:48:53.875202Z",
     "shell.execute_reply": "2021-05-18T19:48:53.874338Z"
    },
    "id": "tIHgIDjddOxN",
    "outputId": "b0aa9b04-82c3-47a3-f45b-55e05c017932",
    "papermill": {
     "duration": 0.068278,
     "end_time": "2021-05-18T19:48:53.875379",
     "exception": false,
     "start_time": "2021-05-18T19:48:53.807101",
     "status": "completed"
    },
    "tags": []
   },
   "outputs": [
    {
     "name": "stdout",
     "output_type": "stream",
     "text": [
      "(3424, 68)\n",
      "(3424,)\n"
     ]
    }
   ],
   "source": [
    "print(X.shape)\n",
    "print(y.shape)"
   ]
  },
  {
   "cell_type": "code",
   "execution_count": 115,
   "id": "welsh-tours",
   "metadata": {
    "execution": {
     "iopub.execute_input": "2021-05-18T19:48:54.002482Z",
     "iopub.status.busy": "2021-05-18T19:48:54.001732Z",
     "iopub.status.idle": "2021-05-18T19:48:54.332776Z",
     "shell.execute_reply": "2021-05-18T19:48:54.331966Z"
    },
    "id": "poInZFgzdT_V",
    "papermill": {
     "duration": 0.397145,
     "end_time": "2021-05-18T19:48:54.332973",
     "exception": false,
     "start_time": "2021-05-18T19:48:53.935828",
     "status": "completed"
    },
    "tags": []
   },
   "outputs": [],
   "source": [
    "from sklearn.preprocessing import LabelEncoder"
   ]
  },
  {
   "cell_type": "code",
   "execution_count": 116,
   "id": "computational-tragedy",
   "metadata": {
    "execution": {
     "iopub.execute_input": "2021-05-18T19:48:54.459160Z",
     "iopub.status.busy": "2021-05-18T19:48:54.458483Z",
     "iopub.status.idle": "2021-05-18T19:48:54.460851Z",
     "shell.execute_reply": "2021-05-18T19:48:54.460205Z"
    },
    "id": "KfBAKuzxdxGb",
    "papermill": {
     "duration": 0.068499,
     "end_time": "2021-05-18T19:48:54.461006",
     "exception": false,
     "start_time": "2021-05-18T19:48:54.392507",
     "status": "completed"
    },
    "tags": []
   },
   "outputs": [],
   "source": [
    "encoding = LabelEncoder()\n",
    "target = encoding.fit_transform(np.ravel(y))"
   ]
  },
  {
   "cell_type": "markdown",
   "id": "suspected-toyota",
   "metadata": {
    "id": "XuAraNvUYvRk",
    "papermill": {
     "duration": 0.058648,
     "end_time": "2021-05-18T19:48:54.580584",
     "exception": false,
     "start_time": "2021-05-18T19:48:54.521936",
     "status": "completed"
    },
    "tags": []
   },
   "source": [
    "##Encoded target variable"
   ]
  },
  {
   "cell_type": "code",
   "execution_count": 117,
   "id": "incorporate-castle",
   "metadata": {
    "execution": {
     "iopub.execute_input": "2021-05-18T19:48:54.703898Z",
     "iopub.status.busy": "2021-05-18T19:48:54.703160Z",
     "iopub.status.idle": "2021-05-18T19:48:54.705879Z",
     "shell.execute_reply": "2021-05-18T19:48:54.706344Z"
    },
    "id": "_vFQIP-EehO2",
    "outputId": "17d45aba-605c-41e2-a1f8-d0c912aa936f",
    "papermill": {
     "duration": 0.067197,
     "end_time": "2021-05-18T19:48:54.706558",
     "exception": false,
     "start_time": "2021-05-18T19:48:54.639361",
     "status": "completed"
    },
    "tags": []
   },
   "outputs": [
    {
     "data": {
      "text/plain": [
       "array([1, 0, 0, ..., 1, 0, 0])"
      ]
     },
     "execution_count": 117,
     "metadata": {},
     "output_type": "execute_result"
    }
   ],
   "source": [
    "target"
   ]
  },
  {
   "cell_type": "markdown",
   "id": "dynamic-entrepreneur",
   "metadata": {
    "id": "9bVJwH77dj2s",
    "papermill": {
     "duration": 0.059934,
     "end_time": "2021-05-18T19:48:54.825219",
     "exception": false,
     "start_time": "2021-05-18T19:48:54.765285",
     "status": "completed"
    },
    "tags": []
   },
   "source": [
    "##Target Class\n",
    "Class \"1\" is Persistent\\\n",
    "Class \"0\" is Non-Persistent"
   ]
  },
  {
   "cell_type": "markdown",
   "id": "critical-recovery",
   "metadata": {
    "id": "D1tUghOlX_K8",
    "papermill": {
     "duration": 0.058973,
     "end_time": "2021-05-18T19:48:54.943313",
     "exception": false,
     "start_time": "2021-05-18T19:48:54.884340",
     "status": "completed"
    },
    "tags": []
   },
   "source": [
    "##Label Encoder for Non-Numeric columns"
   ]
  },
  {
   "cell_type": "code",
   "execution_count": 118,
   "id": "gorgeous-honolulu",
   "metadata": {
    "execution": {
     "iopub.execute_input": "2021-05-18T19:48:55.066863Z",
     "iopub.status.busy": "2021-05-18T19:48:55.066116Z",
     "iopub.status.idle": "2021-05-18T19:48:55.079469Z",
     "shell.execute_reply": "2021-05-18T19:48:55.080215Z"
    },
    "id": "VsQyTfmvHJWv",
    "papermill": {
     "duration": 0.077647,
     "end_time": "2021-05-18T19:48:55.080478",
     "exception": false,
     "start_time": "2021-05-18T19:48:55.002831",
     "status": "completed"
    },
    "tags": []
   },
   "outputs": [],
   "source": [
    "from sklearn.preprocessing import LabelEncoder\n",
    "from sklearn.pipeline import Pipeline\n",
    "\n",
    "class MultiColumnLabelEncoder:\n",
    "    def __init__(self,columns = None):\n",
    "        self.columns = columns # array of column names to encode\n",
    "\n",
    "    def fit(self,X,y=None):\n",
    "        return self # not relevant here\n",
    "\n",
    "    def transform(self,X):\n",
    "        #Transforms columns of X specified in self.columns using LabelEncoder().\n",
    "        #If no columns specified, transforms all columns in X.\n",
    "        \n",
    "        output = X.copy()\n",
    "        if self.columns is not None:\n",
    "            for col in self.columns:\n",
    "                output[col] = LabelEncoder().fit_transform(output[col])\n",
    "        else:\n",
    "            for colname,col in output.iteritems():\n",
    "                output[colname] = LabelEncoder().fit_transform(col)\n",
    "        return output\n",
    "\n",
    "    def fit_transform(self,X,y=None):\n",
    "        return self.fit(X,y).transform(X)"
   ]
  },
  {
   "cell_type": "code",
   "execution_count": 119,
   "id": "attempted-number",
   "metadata": {
    "execution": {
     "iopub.execute_input": "2021-05-18T19:48:55.210190Z",
     "iopub.status.busy": "2021-05-18T19:48:55.209043Z",
     "iopub.status.idle": "2021-05-18T19:48:55.357026Z",
     "shell.execute_reply": "2021-05-18T19:48:55.356260Z"
    },
    "id": "802i9RPVNdYZ",
    "papermill": {
     "duration": 0.215927,
     "end_time": "2021-05-18T19:48:55.357185",
     "exception": false,
     "start_time": "2021-05-18T19:48:55.141258",
     "status": "completed"
    },
    "tags": []
   },
   "outputs": [],
   "source": [
    "New_dF = MultiColumnLabelEncoder(columns = ['Ptid', 'Gender', 'Race', 'Ethnicity', 'Region', 'Age_Bucket', 'Ntm_Speciality', 'Ntm_Specialist_Flag', 'Ntm_Speciality_Bucket', 'Gluco_Record_Prior_Ntm', 'Gluco_Record_During_Rx', 'Dexa_During_Rx', 'Frag_Frac_Prior_Ntm', 'Frag_Frac_During_Rx', 'Risk_Segment_Prior_Ntm', 'Tscore_Bucket_Prior_Ntm', 'Risk_Segment_During_Rx', 'Tscore_Bucket_During_Rx', 'Change_T_Score', 'Change_Risk_Segment', 'Adherent_Flag', 'Idn_Indicator', 'Injectable_Experience_During_Rx', 'Comorb_Encounter_For_Screening_For_Malignant_Neoplasms', 'Comorb_Encounter_For_Immunization', 'Comorb_Encntr_For_General_Exam_W_O_Complaint,_Susp_Or_Reprtd_Dx', 'Comorb_Vitamin_D_Deficiency', 'Comorb_Other_Joint_Disorder_Not_Elsewhere_Classified', 'Comorb_Encntr_For_Oth_Sp_Exam_W_O_Complaint_Suspected_Or_Reprtd_Dx', 'Comorb_Long_Term_Current_Drug_Therapy', 'Comorb_Dorsalgia', 'Comorb_Personal_History_Of_Other_Diseases_And_Conditions', 'Comorb_Other_Disorders_Of_Bone_Density_And_Structure', 'Comorb_Disorders_of_lipoprotein_metabolism_and_other_lipidemias', 'Comorb_Osteoporosis_without_current_pathological_fracture', 'Comorb_Personal_history_of_malignant_neoplasm', 'Comorb_Gastro_esophageal_reflux_disease', 'Concom_Cholesterol_And_Triglyceride_Regulating_Preparations', 'Concom_Narcotics', 'Concom_Systemic_Corticosteroids_Plain', 'Concom_Anti_Depressants_And_Mood_Stabilisers', 'Concom_Fluoroquinolones', 'Concom_Cephalosporins', 'Concom_Macrolides_And_Similar_Types', 'Concom_Broad_Spectrum_Penicillins', 'Concom_Anaesthetics_General', 'Concom_Viral_Vaccines', 'Risk_Type_1_Insulin_Dependent_Diabetes', 'Risk_Osteogenesis_Imperfecta', 'Risk_Rheumatoid_Arthritis', 'Risk_Untreated_Chronic_Hyperthyroidism', 'Risk_Untreated_Chronic_Hypogonadism', 'Risk_Untreated_Early_Menopause', 'Risk_Patient_Parent_Fractured_Their_Hip', 'Risk_Smoking_Tobacco', 'Risk_Chronic_Malnutrition_Or_Malabsorption', 'Risk_Chronic_Liver_Disease', 'Risk_Family_History_Of_Osteoporosis', 'Risk_Low_Calcium_Intake', 'Risk_Vitamin_D_Insufficiency', 'Risk_Poor_Health_Frailty', 'Risk_Excessive_Thinness', 'Risk_Hysterectomy_Oophorectomy', 'Risk_Estrogen_Deficiency', 'Risk_Immobilization', 'Risk_Recurring_Falls']).fit_transform(X)"
   ]
  },
  {
   "cell_type": "code",
   "execution_count": 120,
   "id": "greater-michigan",
   "metadata": {
    "execution": {
     "iopub.execute_input": "2021-05-18T19:48:55.608051Z",
     "iopub.status.busy": "2021-05-18T19:48:55.603397Z",
     "iopub.status.idle": "2021-05-18T19:48:55.633122Z",
     "shell.execute_reply": "2021-05-18T19:48:55.632592Z"
    },
    "id": "usdJCmIiPDxq",
    "outputId": "fa897158-ff88-4aef-f87f-aafd0588ecd3",
    "papermill": {
     "duration": 0.096052,
     "end_time": "2021-05-18T19:48:55.633288",
     "exception": false,
     "start_time": "2021-05-18T19:48:55.537236",
     "status": "completed"
    },
    "tags": []
   },
   "outputs": [
    {
     "data": {
      "text/html": [
       "<div>\n",
       "<style scoped>\n",
       "    .dataframe tbody tr th:only-of-type {\n",
       "        vertical-align: middle;\n",
       "    }\n",
       "\n",
       "    .dataframe tbody tr th {\n",
       "        vertical-align: top;\n",
       "    }\n",
       "\n",
       "    .dataframe thead th {\n",
       "        text-align: right;\n",
       "    }\n",
       "</style>\n",
       "<table border=\"1\" class=\"dataframe\">\n",
       "  <thead>\n",
       "    <tr style=\"text-align: right;\">\n",
       "      <th></th>\n",
       "      <th>Ptid</th>\n",
       "      <th>Gender</th>\n",
       "      <th>Race</th>\n",
       "      <th>Ethnicity</th>\n",
       "      <th>Region</th>\n",
       "      <th>Age_Bucket</th>\n",
       "      <th>Ntm_Speciality</th>\n",
       "      <th>Ntm_Specialist_Flag</th>\n",
       "      <th>Ntm_Speciality_Bucket</th>\n",
       "      <th>Gluco_Record_Prior_Ntm</th>\n",
       "      <th>...</th>\n",
       "      <th>Risk_Family_History_Of_Osteoporosis</th>\n",
       "      <th>Risk_Low_Calcium_Intake</th>\n",
       "      <th>Risk_Vitamin_D_Insufficiency</th>\n",
       "      <th>Risk_Poor_Health_Frailty</th>\n",
       "      <th>Risk_Excessive_Thinness</th>\n",
       "      <th>Risk_Hysterectomy_Oophorectomy</th>\n",
       "      <th>Risk_Estrogen_Deficiency</th>\n",
       "      <th>Risk_Immobilization</th>\n",
       "      <th>Risk_Recurring_Falls</th>\n",
       "      <th>Count_Of_Risks</th>\n",
       "    </tr>\n",
       "  </thead>\n",
       "  <tbody>\n",
       "    <tr>\n",
       "      <th>0</th>\n",
       "      <td>0</td>\n",
       "      <td>1</td>\n",
       "      <td>2</td>\n",
       "      <td>1</td>\n",
       "      <td>4</td>\n",
       "      <td>3</td>\n",
       "      <td>5</td>\n",
       "      <td>0</td>\n",
       "      <td>1</td>\n",
       "      <td>0</td>\n",
       "      <td>...</td>\n",
       "      <td>0</td>\n",
       "      <td>0</td>\n",
       "      <td>0</td>\n",
       "      <td>0</td>\n",
       "      <td>0</td>\n",
       "      <td>0</td>\n",
       "      <td>0</td>\n",
       "      <td>0</td>\n",
       "      <td>0</td>\n",
       "      <td>0</td>\n",
       "    </tr>\n",
       "    <tr>\n",
       "      <th>1</th>\n",
       "      <td>1111</td>\n",
       "      <td>1</td>\n",
       "      <td>1</td>\n",
       "      <td>1</td>\n",
       "      <td>4</td>\n",
       "      <td>0</td>\n",
       "      <td>5</td>\n",
       "      <td>0</td>\n",
       "      <td>1</td>\n",
       "      <td>0</td>\n",
       "      <td>...</td>\n",
       "      <td>0</td>\n",
       "      <td>0</td>\n",
       "      <td>0</td>\n",
       "      <td>0</td>\n",
       "      <td>0</td>\n",
       "      <td>0</td>\n",
       "      <td>0</td>\n",
       "      <td>0</td>\n",
       "      <td>0</td>\n",
       "      <td>0</td>\n",
       "    </tr>\n",
       "    <tr>\n",
       "      <th>2</th>\n",
       "      <td>2222</td>\n",
       "      <td>0</td>\n",
       "      <td>3</td>\n",
       "      <td>0</td>\n",
       "      <td>0</td>\n",
       "      <td>1</td>\n",
       "      <td>5</td>\n",
       "      <td>0</td>\n",
       "      <td>1</td>\n",
       "      <td>0</td>\n",
       "      <td>...</td>\n",
       "      <td>0</td>\n",
       "      <td>1</td>\n",
       "      <td>0</td>\n",
       "      <td>0</td>\n",
       "      <td>0</td>\n",
       "      <td>0</td>\n",
       "      <td>0</td>\n",
       "      <td>0</td>\n",
       "      <td>0</td>\n",
       "      <td>2</td>\n",
       "    </tr>\n",
       "    <tr>\n",
       "      <th>3</th>\n",
       "      <td>2758</td>\n",
       "      <td>0</td>\n",
       "      <td>2</td>\n",
       "      <td>1</td>\n",
       "      <td>0</td>\n",
       "      <td>3</td>\n",
       "      <td>5</td>\n",
       "      <td>0</td>\n",
       "      <td>1</td>\n",
       "      <td>0</td>\n",
       "      <td>...</td>\n",
       "      <td>0</td>\n",
       "      <td>0</td>\n",
       "      <td>0</td>\n",
       "      <td>0</td>\n",
       "      <td>0</td>\n",
       "      <td>0</td>\n",
       "      <td>0</td>\n",
       "      <td>0</td>\n",
       "      <td>0</td>\n",
       "      <td>1</td>\n",
       "    </tr>\n",
       "    <tr>\n",
       "      <th>4</th>\n",
       "      <td>2869</td>\n",
       "      <td>0</td>\n",
       "      <td>2</td>\n",
       "      <td>1</td>\n",
       "      <td>0</td>\n",
       "      <td>3</td>\n",
       "      <td>5</td>\n",
       "      <td>0</td>\n",
       "      <td>1</td>\n",
       "      <td>1</td>\n",
       "      <td>...</td>\n",
       "      <td>0</td>\n",
       "      <td>0</td>\n",
       "      <td>0</td>\n",
       "      <td>0</td>\n",
       "      <td>0</td>\n",
       "      <td>0</td>\n",
       "      <td>0</td>\n",
       "      <td>0</td>\n",
       "      <td>0</td>\n",
       "      <td>1</td>\n",
       "    </tr>\n",
       "    <tr>\n",
       "      <th>5</th>\n",
       "      <td>2980</td>\n",
       "      <td>0</td>\n",
       "      <td>2</td>\n",
       "      <td>1</td>\n",
       "      <td>0</td>\n",
       "      <td>3</td>\n",
       "      <td>5</td>\n",
       "      <td>0</td>\n",
       "      <td>1</td>\n",
       "      <td>0</td>\n",
       "      <td>...</td>\n",
       "      <td>1</td>\n",
       "      <td>0</td>\n",
       "      <td>0</td>\n",
       "      <td>0</td>\n",
       "      <td>0</td>\n",
       "      <td>0</td>\n",
       "      <td>0</td>\n",
       "      <td>0</td>\n",
       "      <td>0</td>\n",
       "      <td>2</td>\n",
       "    </tr>\n",
       "    <tr>\n",
       "      <th>6</th>\n",
       "      <td>3091</td>\n",
       "      <td>0</td>\n",
       "      <td>2</td>\n",
       "      <td>1</td>\n",
       "      <td>0</td>\n",
       "      <td>3</td>\n",
       "      <td>5</td>\n",
       "      <td>0</td>\n",
       "      <td>1</td>\n",
       "      <td>0</td>\n",
       "      <td>...</td>\n",
       "      <td>0</td>\n",
       "      <td>0</td>\n",
       "      <td>0</td>\n",
       "      <td>0</td>\n",
       "      <td>0</td>\n",
       "      <td>0</td>\n",
       "      <td>0</td>\n",
       "      <td>0</td>\n",
       "      <td>0</td>\n",
       "      <td>1</td>\n",
       "    </tr>\n",
       "    <tr>\n",
       "      <th>7</th>\n",
       "      <td>3202</td>\n",
       "      <td>0</td>\n",
       "      <td>2</td>\n",
       "      <td>1</td>\n",
       "      <td>0</td>\n",
       "      <td>3</td>\n",
       "      <td>5</td>\n",
       "      <td>0</td>\n",
       "      <td>1</td>\n",
       "      <td>1</td>\n",
       "      <td>...</td>\n",
       "      <td>0</td>\n",
       "      <td>0</td>\n",
       "      <td>0</td>\n",
       "      <td>0</td>\n",
       "      <td>0</td>\n",
       "      <td>0</td>\n",
       "      <td>0</td>\n",
       "      <td>0</td>\n",
       "      <td>0</td>\n",
       "      <td>1</td>\n",
       "    </tr>\n",
       "    <tr>\n",
       "      <th>8</th>\n",
       "      <td>3313</td>\n",
       "      <td>0</td>\n",
       "      <td>2</td>\n",
       "      <td>1</td>\n",
       "      <td>0</td>\n",
       "      <td>3</td>\n",
       "      <td>5</td>\n",
       "      <td>0</td>\n",
       "      <td>1</td>\n",
       "      <td>0</td>\n",
       "      <td>...</td>\n",
       "      <td>1</td>\n",
       "      <td>0</td>\n",
       "      <td>0</td>\n",
       "      <td>0</td>\n",
       "      <td>0</td>\n",
       "      <td>0</td>\n",
       "      <td>0</td>\n",
       "      <td>0</td>\n",
       "      <td>0</td>\n",
       "      <td>1</td>\n",
       "    </tr>\n",
       "    <tr>\n",
       "      <th>9</th>\n",
       "      <td>1</td>\n",
       "      <td>0</td>\n",
       "      <td>2</td>\n",
       "      <td>1</td>\n",
       "      <td>0</td>\n",
       "      <td>3</td>\n",
       "      <td>5</td>\n",
       "      <td>0</td>\n",
       "      <td>1</td>\n",
       "      <td>0</td>\n",
       "      <td>...</td>\n",
       "      <td>0</td>\n",
       "      <td>0</td>\n",
       "      <td>0</td>\n",
       "      <td>0</td>\n",
       "      <td>0</td>\n",
       "      <td>0</td>\n",
       "      <td>0</td>\n",
       "      <td>0</td>\n",
       "      <td>0</td>\n",
       "      <td>1</td>\n",
       "    </tr>\n",
       "  </tbody>\n",
       "</table>\n",
       "<p>10 rows × 68 columns</p>\n",
       "</div>"
      ],
      "text/plain": [
       "   Ptid  Gender  Race  Ethnicity  Region  Age_Bucket  Ntm_Speciality  \\\n",
       "0     0       1     2          1       4           3               5   \n",
       "1  1111       1     1          1       4           0               5   \n",
       "2  2222       0     3          0       0           1               5   \n",
       "3  2758       0     2          1       0           3               5   \n",
       "4  2869       0     2          1       0           3               5   \n",
       "5  2980       0     2          1       0           3               5   \n",
       "6  3091       0     2          1       0           3               5   \n",
       "7  3202       0     2          1       0           3               5   \n",
       "8  3313       0     2          1       0           3               5   \n",
       "9     1       0     2          1       0           3               5   \n",
       "\n",
       "   Ntm_Specialist_Flag  Ntm_Speciality_Bucket  Gluco_Record_Prior_Ntm  ...  \\\n",
       "0                    0                      1                       0  ...   \n",
       "1                    0                      1                       0  ...   \n",
       "2                    0                      1                       0  ...   \n",
       "3                    0                      1                       0  ...   \n",
       "4                    0                      1                       1  ...   \n",
       "5                    0                      1                       0  ...   \n",
       "6                    0                      1                       0  ...   \n",
       "7                    0                      1                       1  ...   \n",
       "8                    0                      1                       0  ...   \n",
       "9                    0                      1                       0  ...   \n",
       "\n",
       "   Risk_Family_History_Of_Osteoporosis  Risk_Low_Calcium_Intake  \\\n",
       "0                                    0                        0   \n",
       "1                                    0                        0   \n",
       "2                                    0                        1   \n",
       "3                                    0                        0   \n",
       "4                                    0                        0   \n",
       "5                                    1                        0   \n",
       "6                                    0                        0   \n",
       "7                                    0                        0   \n",
       "8                                    1                        0   \n",
       "9                                    0                        0   \n",
       "\n",
       "   Risk_Vitamin_D_Insufficiency  Risk_Poor_Health_Frailty  \\\n",
       "0                             0                         0   \n",
       "1                             0                         0   \n",
       "2                             0                         0   \n",
       "3                             0                         0   \n",
       "4                             0                         0   \n",
       "5                             0                         0   \n",
       "6                             0                         0   \n",
       "7                             0                         0   \n",
       "8                             0                         0   \n",
       "9                             0                         0   \n",
       "\n",
       "   Risk_Excessive_Thinness  Risk_Hysterectomy_Oophorectomy  \\\n",
       "0                        0                               0   \n",
       "1                        0                               0   \n",
       "2                        0                               0   \n",
       "3                        0                               0   \n",
       "4                        0                               0   \n",
       "5                        0                               0   \n",
       "6                        0                               0   \n",
       "7                        0                               0   \n",
       "8                        0                               0   \n",
       "9                        0                               0   \n",
       "\n",
       "   Risk_Estrogen_Deficiency  Risk_Immobilization  Risk_Recurring_Falls  \\\n",
       "0                         0                    0                     0   \n",
       "1                         0                    0                     0   \n",
       "2                         0                    0                     0   \n",
       "3                         0                    0                     0   \n",
       "4                         0                    0                     0   \n",
       "5                         0                    0                     0   \n",
       "6                         0                    0                     0   \n",
       "7                         0                    0                     0   \n",
       "8                         0                    0                     0   \n",
       "9                         0                    0                     0   \n",
       "\n",
       "   Count_Of_Risks  \n",
       "0               0  \n",
       "1               0  \n",
       "2               2  \n",
       "3               1  \n",
       "4               1  \n",
       "5               2  \n",
       "6               1  \n",
       "7               1  \n",
       "8               1  \n",
       "9               1  \n",
       "\n",
       "[10 rows x 68 columns]"
      ]
     },
     "execution_count": 120,
     "metadata": {},
     "output_type": "execute_result"
    }
   ],
   "source": [
    "New_dF.head(10)"
   ]
  },
  {
   "cell_type": "markdown",
   "id": "organized-boating",
   "metadata": {
    "id": "mwUt5u9XYRUO",
    "papermill": {
     "duration": 0.061862,
     "end_time": "2021-05-18T19:48:56.058401",
     "exception": false,
     "start_time": "2021-05-18T19:48:55.996539",
     "status": "completed"
    },
    "tags": []
   },
   "source": [
    "##Splitting of data into Training and Testing dataset for ML Models"
   ]
  },
  {
   "cell_type": "code",
   "execution_count": 121,
   "id": "individual-arrest",
   "metadata": {
    "execution": {
     "iopub.execute_input": "2021-05-18T19:48:56.188814Z",
     "iopub.status.busy": "2021-05-18T19:48:56.187999Z",
     "iopub.status.idle": "2021-05-18T19:48:56.359481Z",
     "shell.execute_reply": "2021-05-18T19:48:56.358802Z"
    },
    "id": "TXILMTDQP0Rw",
    "papermill": {
     "duration": 0.239873,
     "end_time": "2021-05-18T19:48:56.359662",
     "exception": false,
     "start_time": "2021-05-18T19:48:56.119789",
     "status": "completed"
    },
    "tags": []
   },
   "outputs": [],
   "source": [
    "##Important packages importing\n",
    "from sklearn.linear_model import LogisticRegression\n",
    "from sklearn.model_selection import train_test_split\n",
    "from sklearn.metrics import roc_curve, roc_auc_score\n",
    "from matplotlib import pyplot\n",
    "from sklearn.metrics import classification_report, confusion_matrix"
   ]
  },
  {
   "cell_type": "code",
   "execution_count": 122,
   "id": "every-dominant",
   "metadata": {
    "execution": {
     "iopub.execute_input": "2021-05-18T19:48:56.496440Z",
     "iopub.status.busy": "2021-05-18T19:48:56.494918Z",
     "iopub.status.idle": "2021-05-18T19:48:56.507118Z",
     "shell.execute_reply": "2021-05-18T19:48:56.506352Z"
    },
    "id": "ojnRPCG4P4PR",
    "papermill": {
     "duration": 0.083234,
     "end_time": "2021-05-18T19:48:56.507283",
     "exception": false,
     "start_time": "2021-05-18T19:48:56.424049",
     "status": "completed"
    },
    "tags": []
   },
   "outputs": [],
   "source": [
    "train_X, test_X, train_y, test_y = train_test_split(New_dF, target, test_size=0.3, random_state=42)"
   ]
  },
  {
   "cell_type": "markdown",
   "id": "million-paintball",
   "metadata": {
    "id": "bKtr1SntRW-9",
    "papermill": {
     "duration": 0.062924,
     "end_time": "2021-05-18T19:48:56.761591",
     "exception": false,
     "start_time": "2021-05-18T19:48:56.698667",
     "status": "completed"
    },
    "tags": []
   },
   "source": [
    "##Logistic Regression Model"
   ]
  },
  {
   "cell_type": "code",
   "execution_count": 123,
   "id": "fresh-louisville",
   "metadata": {
    "execution": {
     "iopub.execute_input": "2021-05-18T19:48:56.897929Z",
     "iopub.status.busy": "2021-05-18T19:48:56.896563Z",
     "iopub.status.idle": "2021-05-18T19:48:57.744767Z",
     "shell.execute_reply": "2021-05-18T19:48:57.745613Z"
    },
    "id": "1TUon4nuQjdt",
    "outputId": "6d5fe5e0-234d-447c-f71a-b751a70cc2f6",
    "papermill": {
     "duration": 0.921112,
     "end_time": "2021-05-18T19:48:57.745912",
     "exception": false,
     "start_time": "2021-05-18T19:48:56.824800",
     "status": "completed"
    },
    "tags": []
   },
   "outputs": [
    {
     "data": {
      "text/plain": [
       "LogisticRegression(solver='newton-cg')"
      ]
     },
     "execution_count": 123,
     "metadata": {},
     "output_type": "execute_result"
    }
   ],
   "source": [
    "# Logistic Regression\n",
    "# fit a model\n",
    "model = LogisticRegression(solver='newton-cg')\n",
    "model.fit(train_X, train_y)"
   ]
  },
  {
   "cell_type": "code",
   "execution_count": 124,
   "id": "proud-access",
   "metadata": {
    "execution": {
     "iopub.execute_input": "2021-05-18T19:48:57.930856Z",
     "iopub.status.busy": "2021-05-18T19:48:57.929721Z",
     "iopub.status.idle": "2021-05-18T19:48:57.938665Z",
     "shell.execute_reply": "2021-05-18T19:48:57.939667Z"
    },
    "id": "yaV6EUfvPPK4",
    "outputId": "fe3bae3a-cd4a-4c93-c682-50472e712360",
    "papermill": {
     "duration": 0.083357,
     "end_time": "2021-05-18T19:48:57.939970",
     "exception": false,
     "start_time": "2021-05-18T19:48:57.856613",
     "status": "completed"
    },
    "tags": []
   },
   "outputs": [
    {
     "name": "stdout",
     "output_type": "stream",
     "text": [
      "Using Logistic Regression Model- Accuracy on Test Dataset is 81.22568093385215 %\n"
     ]
    }
   ],
   "source": [
    "# Accuracy on Testing Dataset using Logistic Regression\n",
    "score_LR = model.score(test_X, test_y)\n",
    "print(\"Using Logistic Regression Model- Accuracy on Test Dataset is\", score_LR*100, \"%\")"
   ]
  },
  {
   "cell_type": "markdown",
   "id": "divided-investigation",
   "metadata": {
    "id": "hR-jLAYbRcbI",
    "papermill": {
     "duration": 0.067163,
     "end_time": "2021-05-18T19:48:58.124665",
     "exception": false,
     "start_time": "2021-05-18T19:48:58.057502",
     "status": "completed"
    },
    "tags": []
   },
   "source": [
    "##Support Vector Machine Model"
   ]
  },
  {
   "cell_type": "code",
   "execution_count": 125,
   "id": "molecular-hepatitis",
   "metadata": {
    "execution": {
     "iopub.execute_input": "2021-05-18T19:48:58.263863Z",
     "iopub.status.busy": "2021-05-18T19:48:58.262852Z",
     "iopub.status.idle": "2021-05-18T19:48:58.264861Z",
     "shell.execute_reply": "2021-05-18T19:48:58.265295Z"
    },
    "id": "jgCBQUZjOY-Y",
    "papermill": {
     "duration": 0.074287,
     "end_time": "2021-05-18T19:48:58.265490",
     "exception": false,
     "start_time": "2021-05-18T19:48:58.191203",
     "status": "completed"
    },
    "tags": []
   },
   "outputs": [],
   "source": [
    "#Import Library\n",
    "from sklearn import svm\n",
    "import pandas as pd\n",
    "from sklearn.metrics import accuracy_score\n",
    "import warnings\n",
    "warnings.filterwarnings('ignore')"
   ]
  },
  {
   "cell_type": "code",
   "execution_count": 126,
   "id": "developed-destruction",
   "metadata": {
    "execution": {
     "iopub.execute_input": "2021-05-18T19:48:58.394580Z",
     "iopub.status.busy": "2021-05-18T19:48:58.393625Z",
     "iopub.status.idle": "2021-05-18T19:48:58.655730Z",
     "shell.execute_reply": "2021-05-18T19:48:58.656674Z"
    },
    "id": "V-004e4bOaPC",
    "outputId": "81f0cf4c-457f-4980-b89f-030d74ed4dad",
    "papermill": {
     "duration": 0.328987,
     "end_time": "2021-05-18T19:48:58.656959",
     "exception": false,
     "start_time": "2021-05-18T19:48:58.327972",
     "status": "completed"
    },
    "tags": []
   },
   "outputs": [
    {
     "name": "stdout",
     "output_type": "stream",
     "text": [
      "Using Support Vector Machine Model- Accuracy on Test Dataset is 74.5136186770428 %\n"
     ]
    }
   ],
   "source": [
    "# Create Linear SVM object\n",
    "support = svm.LinearSVC(random_state=20)\n",
    "\n",
    "# Train the model using the training sets and check score on test dataset\n",
    "support.fit(train_X, train_y)\n",
    "predicted= support.predict(test_X)\n",
    "score=accuracy_score(test_y,predicted)\n",
    "print(\"Using Support Vector Machine Model- Accuracy on Test Dataset is\", score*100, \"%\")"
   ]
  },
  {
   "cell_type": "markdown",
   "id": "hydraulic-journalist",
   "metadata": {
    "id": "bBn04tfjRsMZ",
    "papermill": {
     "duration": 0.065087,
     "end_time": "2021-05-18T19:48:58.834091",
     "exception": false,
     "start_time": "2021-05-18T19:48:58.769004",
     "status": "completed"
    },
    "tags": []
   },
   "source": [
    "##Hyposthesis Results\n",
    "It is clear that the accuracy of **Logistic Regression Model** is much better as compared to support vector machine on same dataset."
   ]
  },
  {
   "cell_type": "markdown",
   "id": "integral-belief",
   "metadata": {
    "id": "lzKJnM7KVxk4",
    "papermill": {
     "duration": 0.064169,
     "end_time": "2021-05-18T19:49:04.902002",
     "exception": false,
     "start_time": "2021-05-18T19:49:04.837833",
     "status": "completed"
    },
    "tags": []
   },
   "source": [
    "##ROC Curve and Area Under Curve"
   ]
  },
  {
   "cell_type": "code",
   "execution_count": 127,
   "id": "deluxe-providence",
   "metadata": {
    "execution": {
     "iopub.execute_input": "2021-05-18T19:49:05.040003Z",
     "iopub.status.busy": "2021-05-18T19:49:05.038949Z",
     "iopub.status.idle": "2021-05-18T19:49:05.264773Z",
     "shell.execute_reply": "2021-05-18T19:49:05.265295Z"
    },
    "id": "9QBjgXzEXMqu",
    "outputId": "1c48f1a9-135c-4270-d122-43c7f6f9a817",
    "papermill": {
     "duration": 0.299847,
     "end_time": "2021-05-18T19:49:05.265487",
     "exception": false,
     "start_time": "2021-05-18T19:49:04.965640",
     "status": "completed"
    },
    "tags": []
   },
   "outputs": [
    {
     "data": {
      "image/png": "[encoded data removed]",
      "text/plain": [
       "<Figure size 432x288 with 1 Axes>"
      ]
     },
     "metadata": {
      "needs_background": "light"
     },
     "output_type": "display_data"
    }
   ],
   "source": [
    "# predict probabilities\n",
    "ÿ = model.predict_proba(test_X)\n",
    "\n",
    "# retrieve just the probabilities for the positive class\n",
    "pos_probs = ÿ[:, 1]\n",
    "\n",
    "# plot no skill roc curve\n",
    "pyplot.plot([0, 1], [0, 1], linestyle='--', label='No Skill')\n",
    "# calculate roc curve for model\n",
    "fpr, tpr, _ = roc_curve(test_y, pos_probs)\n",
    "# plot model roc curve\n",
    "pyplot.plot(fpr, tpr, marker='.', label='Logistic')\n",
    "# axis labels\n",
    "pyplot.xlabel('False Positive Rate')\n",
    "pyplot.ylabel('True Positive Rate')\n",
    "# show the legend\n",
    "pyplot.legend()\n",
    "# show the plot\n",
    "pyplot.show()"
   ]
  },
  {
   "cell_type": "code",
   "execution_count": 128,
   "id": "retired-knowing",
   "metadata": {
    "execution": {
     "iopub.execute_input": "2021-05-18T19:49:05.401271Z",
     "iopub.status.busy": "2021-05-18T19:49:05.400608Z",
     "iopub.status.idle": "2021-05-18T19:49:05.416344Z",
     "shell.execute_reply": "2021-05-18T19:49:05.417381Z"
    },
    "id": "I0Rn5zfAuuJ2",
    "outputId": "512d43ee-dc00-470a-d6dc-4b9a1804902e",
    "papermill": {
     "duration": 0.087515,
     "end_time": "2021-05-18T19:49:05.417718",
     "exception": false,
     "start_time": "2021-05-18T19:49:05.330203",
     "status": "completed"
    },
    "tags": []
   },
   "outputs": [
    {
     "name": "stdout",
     "output_type": "stream",
     "text": [
      "Logistic ROC Area Under Curve 0.878\n"
     ]
    }
   ],
   "source": [
    "#Calculating ROC Area Under Curve\n",
    "ÿ = model.predict_proba(test_X)\n",
    "pos_probs = ÿ[:, 1]\n",
    "roc_auc = roc_auc_score(test_y, pos_probs)\n",
    "print('Logistic ROC Area Under Curve %.3f' % roc_auc)"
   ]
  },
  {
   "cell_type": "markdown",
   "id": "relevant-keeping",
   "metadata": {
    "id": "6Cn3KR3tV6Oc",
    "papermill": {
     "duration": 0.066,
     "end_time": "2021-05-18T19:49:05.597418",
     "exception": false,
     "start_time": "2021-05-18T19:49:05.531418",
     "status": "completed"
    },
    "tags": []
   },
   "source": [
    "##Coefficients of variables"
   ]
  },
  {
   "cell_type": "code",
   "execution_count": 129,
   "id": "moral-grenada",
   "metadata": {
    "execution": {
     "iopub.execute_input": "2021-05-18T19:49:06.467842Z",
     "iopub.status.busy": "2021-05-18T19:49:06.466717Z",
     "iopub.status.idle": "2021-05-18T19:49:06.479693Z",
     "shell.execute_reply": "2021-05-18T19:49:06.478653Z"
    },
    "id": "A72KDu7XjCw3",
    "outputId": "d7f7ac30-9ec9-45b0-d939-1add7a3d4712",
    "papermill": {
     "duration": 0.09085,
     "end_time": "2021-05-18T19:49:06.479963",
     "exception": false,
     "start_time": "2021-05-18T19:49:06.389113",
     "status": "completed"
    },
    "tags": []
   },
   "outputs": [
    {
     "name": "stdout",
     "output_type": "stream",
     "text": [
      "Predicted probability on training dataset :  [[0.67679247 0.32320753]\n",
      " [0.65576741 0.34423259]\n",
      " [0.00429972 0.99570028]\n",
      " ...\n",
      " [0.26882184 0.73117816]\n",
      " [0.84283087 0.15716913]\n",
      " [0.86314817 0.13685183]]\n"
     ]
    }
   ],
   "source": [
    "print('Predicted probability on training dataset : ', model.predict_proba(train_X))"
   ]
  },
  {
   "cell_type": "code",
   "execution_count": 130,
   "id": "enabling-stamp",
   "metadata": {
    "execution": {
     "iopub.execute_input": "2021-05-18T19:49:06.672383Z",
     "iopub.status.busy": "2021-05-18T19:49:06.671669Z",
     "iopub.status.idle": "2021-05-18T19:49:06.678368Z",
     "shell.execute_reply": "2021-05-18T19:49:06.679720Z"
    },
    "id": "Cz29xtZ2jfu7",
    "outputId": "2eead1cc-2f20-4c10-f7a6-37d068a0f367",
    "papermill": {
     "duration": 0.084076,
     "end_time": "2021-05-18T19:49:06.680097",
     "exception": false,
     "start_time": "2021-05-18T19:49:06.596021",
     "status": "completed"
    },
    "tags": []
   },
   "outputs": [
    {
     "name": "stdout",
     "output_type": "stream",
     "text": [
      "Accuracy on Training Dataset :  0.8297161936560935\n"
     ]
    }
   ],
   "source": [
    "#Accuracy on Training Dataset\n",
    "print('Accuracy on Training Dataset : ', model.score(train_X, train_y))"
   ]
  },
  {
   "cell_type": "markdown",
   "id": "stable-audio",
   "metadata": {
    "id": "Wik2l23tXrHB",
    "papermill": {
     "duration": 0.069924,
     "end_time": "2021-05-18T19:49:06.868170",
     "exception": false,
     "start_time": "2021-05-18T19:49:06.798246",
     "status": "completed"
    },
    "tags": []
   },
   "source": [
    "##Confusion Matrix"
   ]
  },
  {
   "cell_type": "code",
   "execution_count": 131,
   "id": "compact-volunteer",
   "metadata": {
    "execution": {
     "iopub.execute_input": "2021-05-18T19:49:07.023286Z",
     "iopub.status.busy": "2021-05-18T19:49:07.022080Z",
     "iopub.status.idle": "2021-05-18T19:49:07.039060Z",
     "shell.execute_reply": "2021-05-18T19:49:07.040081Z"
    },
    "id": "OjloTt3Aj8AQ",
    "outputId": "e4446e42-fdbb-4f12-f58d-c8b5084b635a",
    "papermill": {
     "duration": 0.101487,
     "end_time": "2021-05-18T19:49:07.040405",
     "exception": false,
     "start_time": "2021-05-18T19:49:06.938918",
     "status": "completed"
    },
    "tags": []
   },
   "outputs": [
    {
     "data": {
      "text/plain": [
       "array([[1904,  231],\n",
       "       [ 370,  919]])"
      ]
     },
     "execution_count": 131,
     "metadata": {},
     "output_type": "execute_result"
    }
   ],
   "source": [
    "confusion_matrix(target, model.predict(New_dF))"
   ]
  },
  {
   "cell_type": "markdown",
   "id": "smaller-farmer",
   "metadata": {
    "id": "_exMtIPJlaGT",
    "papermill": {
     "duration": 0.072592,
     "end_time": "2021-05-18T19:49:07.228069",
     "exception": false,
     "start_time": "2021-05-18T19:49:07.155477",
     "status": "completed"
    },
    "tags": []
   },
   "source": [
    "1. True negatives in the upper-left position\n",
    "2. False negatives in the lower-left position\n",
    "3. False positives in the upper-right position\n",
    "4. True positives in the lower-right position"
   ]
  },
  {
   "cell_type": "code",
   "execution_count": 132,
   "id": "speaking-tension",
   "metadata": {
    "execution": {
     "iopub.execute_input": "2021-05-18T19:49:07.409940Z",
     "iopub.status.busy": "2021-05-18T19:49:07.408741Z",
     "iopub.status.idle": "2021-05-18T19:49:07.579489Z",
     "shell.execute_reply": "2021-05-18T19:49:07.578914Z"
    },
    "id": "STVPVOFalCOc",
    "outputId": "b92245d9-7910-4329-e135-f8fed3bb2746",
    "papermill": {
     "duration": 0.266359,
     "end_time": "2021-05-18T19:49:07.579657",
     "exception": false,
     "start_time": "2021-05-18T19:49:07.313298",
     "status": "completed"
    },
    "tags": []
   },
   "outputs": [
    {
     "data": {
      "image/png": "[encoded data removed]",
      "text/plain": [
       "<Figure size 576x576 with 1 Axes>"
      ]
     },
     "metadata": {
      "needs_background": "light"
     },
     "output_type": "display_data"
    }
   ],
   "source": [
    "cm = confusion_matrix(target, model.predict(New_dF))\n",
    "fig, ax = plt.subplots(figsize=(8, 8))\n",
    "ax.imshow(cm)\n",
    "ax.grid(False)\n",
    "ax.xaxis.set(ticks=(0, 1), ticklabels=('Predicted Non-Persistent', 'Predicted Persistent'))\n",
    "ax.yaxis.set(ticks=(0, 1), ticklabels=('Actual Non-Persistent', 'Actual Persistent'))\n",
    "ax.set_ylim(1.5, -0.5)\n",
    "for i in range(2):\n",
    "    for j in range(2):\n",
    "        ax.text(j, i, cm[i, j], ha='center', va='center', color='red')\n",
    "plt.show()"
   ]
  },
  {
   "cell_type": "markdown",
   "id": "preceding-senior",
   "metadata": {
    "id": "W29WRZnfXvps",
    "papermill": {
     "duration": 0.069441,
     "end_time": "2021-05-18T19:49:07.718776",
     "exception": false,
     "start_time": "2021-05-18T19:49:07.649335",
     "status": "completed"
    },
    "tags": []
   },
   "source": [
    "##Classification Report on Confusion Matrix"
   ]
  },
  {
   "cell_type": "code",
   "execution_count": 133,
   "id": "processed-ireland",
   "metadata": {
    "execution": {
     "iopub.execute_input": "2021-05-18T19:49:07.873262Z",
     "iopub.status.busy": "2021-05-18T19:49:07.872108Z",
     "iopub.status.idle": "2021-05-18T19:49:07.886239Z",
     "shell.execute_reply": "2021-05-18T19:49:07.887409Z"
    },
    "id": "4nRJIC_Pmnds",
    "outputId": "9c22fadb-bdac-4b01-c748-d0ff6ef54f9f",
    "papermill": {
     "duration": 0.099129,
     "end_time": "2021-05-18T19:49:07.887773",
     "exception": false,
     "start_time": "2021-05-18T19:49:07.788644",
     "status": "completed"
    },
    "tags": []
   },
   "outputs": [
    {
     "name": "stdout",
     "output_type": "stream",
     "text": [
      "              precision    recall  f1-score   support\n",
      "\n",
      "           0       0.84      0.89      0.86      2135\n",
      "           1       0.80      0.71      0.75      1289\n",
      "\n",
      "    accuracy                           0.82      3424\n",
      "   macro avg       0.82      0.80      0.81      3424\n",
      "weighted avg       0.82      0.82      0.82      3424\n",
      "\n"
     ]
    }
   ],
   "source": [
    "print(classification_report(target, model.predict(New_dF)))"
   ]
  },
  {
   "cell_type": "markdown",
   "id": "genuine-schedule",
   "metadata": {
    "id": "KacA9gg9eAYz",
    "papermill": {
     "duration": 0.070859,
     "end_time": "2021-05-18T19:49:08.074842",
     "exception": false,
     "start_time": "2021-05-18T19:49:08.003983",
     "status": "completed"
    },
    "tags": []
   },
   "source": [
    "##Target Class\n",
    "Where:\\\n",
    "Class \"1\" is Persistent\\\n",
    "Class \"0\" is Non-Persistent"
   ]
  },
  {
   "cell_type": "code",
   "execution_count": null,
   "id": "broadband-conservative",
   "metadata": {
    "id": "zSBbKAmBs5VL",
    "papermill": {
     "duration": 0.070132,
     "end_time": "2021-05-18T19:49:08.359471",
     "exception": false,
     "start_time": "2021-05-18T19:49:08.289339",
     "status": "completed"
    },
    "tags": []
   },
   "outputs": [],
   "source": []
  },
  {
   "cell_type": "code",
   "execution_count": null,
   "id": "dcc248ff",
   "metadata": {},
   "outputs": [],
   "source": []
  }
 ],
 "metadata": {
  "kernelspec": {
   "display_name": "Python 3",
   "language": "python",
   "name": "python3"
  },
  "language_info": {
   "codemirror_mode": {
    "name": "ipython",
    "version": 3
   },
   "file_extension": ".py",
   "mimetype": "text/x-python",
   "name": "python",
   "nbconvert_exporter": "python",
   "pygments_lexer": "ipython3",
   "version": "3.8.8"
  },
  "papermill": {
   "default_parameters": {},
   "duration": 29.935151,
   "end_time": "2021-05-18T19:49:09.443028",
   "environment_variables": {},
   "exception": null,
   "input_path": "__notebook__.ipynb",
   "output_path": "__notebook__.ipynb",
   "parameters": {},
   "start_time": "2021-05-18T19:48:39.507877",
   "version": "2.3.3"
  }
 },
 "nbformat": 4,
 "nbformat_minor": 5
}
